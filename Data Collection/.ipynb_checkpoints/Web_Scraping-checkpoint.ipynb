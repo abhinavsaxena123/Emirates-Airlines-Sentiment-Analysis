{
 "cells": [
  {
   "cell_type": "markdown",
   "id": "9a9d5d4e-7299-441d-abd2-7df7afd48412",
   "metadata": {},
   "source": [
    "<div style=\"background-color: #1a1a2e; padding: 15px; border-radius: 20px; border: 1px solid #16213e; max-width: 700px; margin: auto; text-align: center;\">\n",
    "    <h2 style=\"font-family: 'Helvetica Neue', Arial, sans-serif; color: #e94560; font-size: 32px; margin-bottom: 12px; font-weight: bold;\">\n",
    "        Data Collection\n",
    "    </h2>\n",
    "    <p style=\"font-family: 'Roboto', sans-serif; color: #c4c4c4; font-size: 20px; margin-top: 10px; text-align: center; \">\n",
    "          Web Scraping using Beautiful Soup \n",
    "    </p>\n",
    "</div>"
   ]
  },
  {
   "cell_type": "markdown",
   "id": "42495dff-54ff-4267-b7df-a82207a5560b",
   "metadata": {},
   "source": [
    "#### Scraping data from Skytrax\n",
    "#### Link: https://www.airlinequality.com/airline-reviews/emirates"
   ]
  },
  {
   "cell_type": "code",
   "execution_count": 1,
   "id": "d86b4438-943f-4779-9b7e-4420bc0e3295",
   "metadata": {},
   "outputs": [],
   "source": [
    "import requests\n",
    "from bs4 import BeautifulSoup\n",
    "import pandas as pd\n",
    "import os "
   ]
  },
  {
   "cell_type": "code",
   "execution_count": 2,
   "id": "e7772bb5-aadb-42d9-a771-b6eb77ebf36f",
   "metadata": {},
   "outputs": [],
   "source": [
    "#!pip install beautifulsoup4 requests"
   ]
  },
  {
   "cell_type": "code",
   "execution_count": 10,
   "id": "6dbffd5b-69b8-4c63-90ae-c40c5c54aaa1",
   "metadata": {},
   "outputs": [],
   "source": [
    "#create an empty list to collect reviews, rating stars, collect date and reviewer's country.\n",
    "\n",
    "reviews  = []\n",
    "stars    = []\n",
    "date     = []\n",
    "country  = []"
   ]
  },
  {
   "cell_type": "code",
   "execution_count": 11,
   "id": "c7b29592-ee17-4588-a8ca-b10950731a08",
   "metadata": {},
   "outputs": [],
   "source": [
    "base_url = \"https://www.airlinequality.com/airline-reviews/emirates\"\n",
    "pages = 200\n",
    "page_size = 10\n",
    "\n",
    "for i in range(1, pages + 1):\n",
    "    # Create URL to collect links from paginated data\n",
    "    url = f\"{base_url}/page/{i}/?sortby=post_date%3ADesc&pagesize={page_size}\"\n",
    "    # Collect HTML data from this page\n",
    "    page = requests.get(url)\n",
    "    \n",
    "    if page.status_code != 200:\n",
    "        print(f\"Failed to retrieve page {i}\")\n",
    "        continue\n",
    "\n",
    "    # Parse content\n",
    "    soup = BeautifulSoup(page.content, 'html.parser')\n",
    "\n",
    "    # Extract reviews\n",
    "    for item in soup.find_all(\"div\", class_=\"text_content\"):\n",
    "        reviews.append(item.text.strip())\n",
    "\n",
    "    # Extract star ratings\n",
    "    for item in soup.find_all(\"div\", class_=\"rating-10\"):\n",
    "        try:\n",
    "            stars.append(item.find(\"span\").text.strip())\n",
    "        except AttributeError:\n",
    "            print(f\"Error on page {i}: Unable to extract star rating\")\n",
    "            stars.append(\"None\")\n",
    "\n",
    "    # Extract dates\n",
    "    for item in soup.find_all(\"time\"):\n",
    "        date.append(item.text.strip())\n",
    "        \n",
    "    # Extract countries\n",
    "    for item in soup.find_all(\"h3\"):\n",
    "        country_span = item.find(\"span\")\n",
    "        if country_span:\n",
    "            country.append(country_span.next_sibling.text.strip(\" ()\"))\n",
    "        else:\n",
    "            print(f\"Error on page {i}: Unable to extract country\")\n",
    "            country.append(\"None\")"
   ]
  },
  {
   "cell_type": "code",
   "execution_count": 12,
   "id": "bbdcc67d-8afc-4cb9-be96-30fc952529b1",
   "metadata": {},
   "outputs": [
    {
     "name": "stdout",
     "output_type": "stream",
     "text": [
      "Total reviews: 2000\n",
      "Total stars: 2200\n",
      "Total dates: 2000\n",
      "Total countries: 2000\n"
     ]
    }
   ],
   "source": [
    "print(f\"Total reviews: {len(reviews)}\")\n",
    "print(f\"Total stars: {len(stars)}\")\n",
    "print(f\"Total dates: {len(date)}\")\n",
    "print(f\"Total countries: {len(country)}\")"
   ]
  },
  {
   "cell_type": "code",
   "execution_count": 13,
   "id": "53b553c3-b727-4ecd-8f52-c68e48121641",
   "metadata": {},
   "outputs": [],
   "source": [
    "stars = stars[:2000]"
   ]
  },
  {
   "cell_type": "code",
   "execution_count": 17,
   "id": "8c8c9f56-f87f-4351-b4c6-6137949eb30d",
   "metadata": {},
   "outputs": [
    {
     "data": {
      "text/html": [
       "<div>\n",
       "<style scoped>\n",
       "    .dataframe tbody tr th:only-of-type {\n",
       "        vertical-align: middle;\n",
       "    }\n",
       "\n",
       "    .dataframe tbody tr th {\n",
       "        vertical-align: top;\n",
       "    }\n",
       "\n",
       "    .dataframe thead th {\n",
       "        text-align: right;\n",
       "    }\n",
       "</style>\n",
       "<table border=\"1\" class=\"dataframe\">\n",
       "  <thead>\n",
       "    <tr style=\"text-align: right;\">\n",
       "      <th></th>\n",
       "      <th>reviews</th>\n",
       "      <th>stars</th>\n",
       "      <th>date</th>\n",
       "      <th>country</th>\n",
       "    </tr>\n",
       "  </thead>\n",
       "  <tbody>\n",
       "    <tr>\n",
       "      <th>0</th>\n",
       "      <td>✅ Trip Verified |   I flew a return trip DXB-L...</td>\n",
       "      <td>5</td>\n",
       "      <td>12th August 2024</td>\n",
       "      <td>United Arab Emirates</td>\n",
       "    </tr>\n",
       "    <tr>\n",
       "      <th>1</th>\n",
       "      <td>✅ Trip Verified |   We were 2 people travellin...</td>\n",
       "      <td>10</td>\n",
       "      <td>11th August 2024</td>\n",
       "      <td>India</td>\n",
       "    </tr>\n",
       "    <tr>\n",
       "      <th>2</th>\n",
       "      <td>Not Verified |   First time flying Emirates, w...</td>\n",
       "      <td>4</td>\n",
       "      <td>29th July 2024</td>\n",
       "      <td>Netherlands</td>\n",
       "    </tr>\n",
       "    <tr>\n",
       "      <th>3</th>\n",
       "      <td>✅ Trip Verified |  Ground Staff and Service Fa...</td>\n",
       "      <td>5</td>\n",
       "      <td>18th July 2024</td>\n",
       "      <td>Singapore</td>\n",
       "    </tr>\n",
       "    <tr>\n",
       "      <th>4</th>\n",
       "      <td>Not Verified |  The staff are friendly and the...</td>\n",
       "      <td>1</td>\n",
       "      <td>13th July 2024</td>\n",
       "      <td>Hong Kong</td>\n",
       "    </tr>\n",
       "  </tbody>\n",
       "</table>\n",
       "</div>"
      ],
      "text/plain": [
       "                                             reviews stars              date  \\\n",
       "0  ✅ Trip Verified |   I flew a return trip DXB-L...     5  12th August 2024   \n",
       "1  ✅ Trip Verified |   We were 2 people travellin...    10  11th August 2024   \n",
       "2  Not Verified |   First time flying Emirates, w...     4    29th July 2024   \n",
       "3  ✅ Trip Verified |  Ground Staff and Service Fa...     5    18th July 2024   \n",
       "4  Not Verified |  The staff are friendly and the...     1    13th July 2024   \n",
       "\n",
       "                country  \n",
       "0  United Arab Emirates  \n",
       "1                 India  \n",
       "2           Netherlands  \n",
       "3             Singapore  \n",
       "4             Hong Kong  "
      ]
     },
     "execution_count": 17,
     "metadata": {},
     "output_type": "execute_result"
    }
   ],
   "source": [
    "#create  a dataframe from these collected lists of data\n",
    "df = pd.DataFrame({\"reviews\":reviews,\"stars\": stars, \"date\":date, \"country\": country})\n",
    "df.head()"
   ]
  },
  {
   "cell_type": "code",
   "execution_count": 18,
   "id": "365c0862-3977-4d37-999e-74d533a18e35",
   "metadata": {},
   "outputs": [
    {
     "data": {
      "text/plain": [
       "(2000, 4)"
      ]
     },
     "execution_count": 18,
     "metadata": {},
     "output_type": "execute_result"
    }
   ],
   "source": [
    "df.shape"
   ]
  },
  {
   "cell_type": "code",
   "execution_count": 25,
   "id": "4635791d-8a27-46b7-958d-63a3df21805b",
   "metadata": {},
   "outputs": [],
   "source": [
    "# Storing reviews into a csv format\n",
    "df.to_csv(\"Emirates_reviews.csv\",index=False)"
   ]
  }
 ],
 "metadata": {
  "kernelspec": {
   "display_name": "Python 3 (ipykernel)",
   "language": "python",
   "name": "python3"
  },
  "language_info": {
   "codemirror_mode": {
    "name": "ipython",
    "version": 3
   },
   "file_extension": ".py",
   "mimetype": "text/x-python",
   "name": "python",
   "nbconvert_exporter": "python",
   "pygments_lexer": "ipython3",
   "version": "3.10.13"
  }
 },
 "nbformat": 4,
 "nbformat_minor": 5
}
