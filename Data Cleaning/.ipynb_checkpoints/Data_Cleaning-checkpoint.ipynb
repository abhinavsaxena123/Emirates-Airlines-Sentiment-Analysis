{
 "cells": [
  {
   "cell_type": "markdown",
   "id": "f5e63464-89dd-4ad1-8f4b-9dd68b478c97",
   "metadata": {},
   "source": [
    "<div style=\"background-color: #1a1a2e; padding: 15px; border-radius: 20px; border: 1px solid #16213e; max-width: 700px; margin: auto; text-align: center;\">\n",
    "    <h2 style=\"font-family: 'Helvetica Neue', Arial, sans-serif; color: #e94560; font-size: 30px; margin-bottom: 12px; font-weight: bold;\">\n",
    "        Data Cleaning\n",
    "    </h2>\n",
    "</div>"
   ]
  },
  {
   "cell_type": "code",
   "execution_count": 1,
   "id": "76442061-8380-4050-8d88-95b29f5b9ea0",
   "metadata": {},
   "outputs": [],
   "source": [
    "import pandas as pd\n",
    "import matplotlib.pyplot as plt\n",
    "import seaborn as sns\n",
    "import os\n",
    "import re"
   ]
  },
  {
   "cell_type": "code",
   "execution_count": 2,
   "id": "e2385f88-69eb-4c2e-b75c-61b1de7dd77d",
   "metadata": {},
   "outputs": [
    {
     "name": "stderr",
     "output_type": "stream",
     "text": [
      "[nltk_data] Downloading package stopwords to C:\\Users\\Darrin\n",
      "[nltk_data]     DeYoung\\AppData\\Roaming\\nltk_data...\n",
      "[nltk_data]   Package stopwords is already up-to-date!\n",
      "[nltk_data] Downloading package wordnet to C:\\Users\\Darrin\n",
      "[nltk_data]     DeYoung\\AppData\\Roaming\\nltk_data...\n",
      "[nltk_data]   Package wordnet is already up-to-date!\n"
     ]
    },
    {
     "data": {
      "text/plain": [
       "True"
      ]
     },
     "execution_count": 2,
     "metadata": {},
     "output_type": "execute_result"
    }
   ],
   "source": [
    "import nltk\n",
    "nltk.download('stopwords')\n",
    "nltk.download('wordnet')"
   ]
  },
  {
   "cell_type": "code",
   "execution_count": 3,
   "id": "5532d2a7-0b8c-4cec-877c-58024e8fa082",
   "metadata": {},
   "outputs": [
    {
     "data": {
      "text/html": [
       "<div>\n",
       "<style scoped>\n",
       "    .dataframe tbody tr th:only-of-type {\n",
       "        vertical-align: middle;\n",
       "    }\n",
       "\n",
       "    .dataframe tbody tr th {\n",
       "        vertical-align: top;\n",
       "    }\n",
       "\n",
       "    .dataframe thead th {\n",
       "        text-align: right;\n",
       "    }\n",
       "</style>\n",
       "<table border=\"1\" class=\"dataframe\">\n",
       "  <thead>\n",
       "    <tr style=\"text-align: right;\">\n",
       "      <th></th>\n",
       "      <th>reviews</th>\n",
       "      <th>stars</th>\n",
       "      <th>date</th>\n",
       "      <th>country</th>\n",
       "    </tr>\n",
       "  </thead>\n",
       "  <tbody>\n",
       "    <tr>\n",
       "      <th>0</th>\n",
       "      <td>✅ Trip Verified |   I flew a return trip DXB-L...</td>\n",
       "      <td>5</td>\n",
       "      <td>12th August 2024</td>\n",
       "      <td>United Arab Emirates</td>\n",
       "    </tr>\n",
       "    <tr>\n",
       "      <th>1</th>\n",
       "      <td>✅ Trip Verified |   We were 2 people travellin...</td>\n",
       "      <td>10</td>\n",
       "      <td>11th August 2024</td>\n",
       "      <td>India</td>\n",
       "    </tr>\n",
       "    <tr>\n",
       "      <th>2</th>\n",
       "      <td>Not Verified |   First time flying Emirates, w...</td>\n",
       "      <td>4</td>\n",
       "      <td>29th July 2024</td>\n",
       "      <td>Netherlands</td>\n",
       "    </tr>\n",
       "    <tr>\n",
       "      <th>3</th>\n",
       "      <td>✅ Trip Verified |  Ground Staff and Service Fa...</td>\n",
       "      <td>5</td>\n",
       "      <td>18th July 2024</td>\n",
       "      <td>Singapore</td>\n",
       "    </tr>\n",
       "    <tr>\n",
       "      <th>4</th>\n",
       "      <td>Not Verified |  The staff are friendly and the...</td>\n",
       "      <td>1</td>\n",
       "      <td>13th July 2024</td>\n",
       "      <td>Hong Kong</td>\n",
       "    </tr>\n",
       "  </tbody>\n",
       "</table>\n",
       "</div>"
      ],
      "text/plain": [
       "                                             reviews  stars              date  \\\n",
       "0  ✅ Trip Verified |   I flew a return trip DXB-L...      5  12th August 2024   \n",
       "1  ✅ Trip Verified |   We were 2 people travellin...     10  11th August 2024   \n",
       "2  Not Verified |   First time flying Emirates, w...      4    29th July 2024   \n",
       "3  ✅ Trip Verified |  Ground Staff and Service Fa...      5    18th July 2024   \n",
       "4  Not Verified |  The staff are friendly and the...      1    13th July 2024   \n",
       "\n",
       "                country  \n",
       "0  United Arab Emirates  \n",
       "1                 India  \n",
       "2           Netherlands  \n",
       "3             Singapore  \n",
       "4             Hong Kong  "
      ]
     },
     "execution_count": 3,
     "metadata": {},
     "output_type": "execute_result"
    }
   ],
   "source": [
    "df = pd.read_csv('Emirates_reviews.csv')\n",
    "df.head()"
   ]
  },
  {
   "cell_type": "code",
   "execution_count": 4,
   "id": "2b485562-37d8-4d29-bbd2-44df1084b470",
   "metadata": {},
   "outputs": [
    {
     "data": {
      "text/plain": [
       "(2000, 4)"
      ]
     },
     "execution_count": 4,
     "metadata": {},
     "output_type": "execute_result"
    }
   ],
   "source": [
    "df.shape"
   ]
  },
  {
   "cell_type": "code",
   "execution_count": 5,
   "id": "2616da80-8253-457f-898d-03a42b940384",
   "metadata": {},
   "outputs": [],
   "source": [
    "df['status'] = df.reviews.str.contains(\"Trip Verified\")"
   ]
  },
  {
   "cell_type": "code",
   "execution_count": 6,
   "id": "fce5bd5d-b50f-4105-a98b-006bb0de9647",
   "metadata": {},
   "outputs": [
    {
     "data": {
      "text/html": [
       "<div>\n",
       "<style scoped>\n",
       "    .dataframe tbody tr th:only-of-type {\n",
       "        vertical-align: middle;\n",
       "    }\n",
       "\n",
       "    .dataframe tbody tr th {\n",
       "        vertical-align: top;\n",
       "    }\n",
       "\n",
       "    .dataframe thead th {\n",
       "        text-align: right;\n",
       "    }\n",
       "</style>\n",
       "<table border=\"1\" class=\"dataframe\">\n",
       "  <thead>\n",
       "    <tr style=\"text-align: right;\">\n",
       "      <th></th>\n",
       "      <th>reviews</th>\n",
       "      <th>stars</th>\n",
       "      <th>date</th>\n",
       "      <th>country</th>\n",
       "      <th>status</th>\n",
       "    </tr>\n",
       "  </thead>\n",
       "  <tbody>\n",
       "    <tr>\n",
       "      <th>0</th>\n",
       "      <td>✅ Trip Verified |   I flew a return trip DXB-L...</td>\n",
       "      <td>5</td>\n",
       "      <td>12th August 2024</td>\n",
       "      <td>United Arab Emirates</td>\n",
       "      <td>True</td>\n",
       "    </tr>\n",
       "    <tr>\n",
       "      <th>1</th>\n",
       "      <td>✅ Trip Verified |   We were 2 people travellin...</td>\n",
       "      <td>10</td>\n",
       "      <td>11th August 2024</td>\n",
       "      <td>India</td>\n",
       "      <td>True</td>\n",
       "    </tr>\n",
       "    <tr>\n",
       "      <th>2</th>\n",
       "      <td>Not Verified |   First time flying Emirates, w...</td>\n",
       "      <td>4</td>\n",
       "      <td>29th July 2024</td>\n",
       "      <td>Netherlands</td>\n",
       "      <td>False</td>\n",
       "    </tr>\n",
       "    <tr>\n",
       "      <th>3</th>\n",
       "      <td>✅ Trip Verified |  Ground Staff and Service Fa...</td>\n",
       "      <td>5</td>\n",
       "      <td>18th July 2024</td>\n",
       "      <td>Singapore</td>\n",
       "      <td>True</td>\n",
       "    </tr>\n",
       "    <tr>\n",
       "      <th>4</th>\n",
       "      <td>Not Verified |  The staff are friendly and the...</td>\n",
       "      <td>1</td>\n",
       "      <td>13th July 2024</td>\n",
       "      <td>Hong Kong</td>\n",
       "      <td>False</td>\n",
       "    </tr>\n",
       "  </tbody>\n",
       "</table>\n",
       "</div>"
      ],
      "text/plain": [
       "                                             reviews  stars              date  \\\n",
       "0  ✅ Trip Verified |   I flew a return trip DXB-L...      5  12th August 2024   \n",
       "1  ✅ Trip Verified |   We were 2 people travellin...     10  11th August 2024   \n",
       "2  Not Verified |   First time flying Emirates, w...      4    29th July 2024   \n",
       "3  ✅ Trip Verified |  Ground Staff and Service Fa...      5    18th July 2024   \n",
       "4  Not Verified |  The staff are friendly and the...      1    13th July 2024   \n",
       "\n",
       "                country  status  \n",
       "0  United Arab Emirates    True  \n",
       "1                 India    True  \n",
       "2           Netherlands   False  \n",
       "3             Singapore    True  \n",
       "4             Hong Kong   False  "
      ]
     },
     "execution_count": 6,
     "metadata": {},
     "output_type": "execute_result"
    }
   ],
   "source": [
    "df.head()"
   ]
  },
  {
   "cell_type": "code",
   "execution_count": 7,
   "id": "413f3717-0cf1-42c3-bd13-011f678cb363",
   "metadata": {},
   "outputs": [],
   "source": [
    "from nltk.stem import WordNetLemmatizer\n",
    "from nltk.corpus import stopwords\n",
    "\n",
    "lemmatizer = WordNetLemmatizer()\n",
    "stop_words = set(stopwords.words('english'))\n",
    "\n",
    "reviews_data = df.reviews.str.strip(\"✅ Trip Verified |\")\n",
    "\n",
    "corpus = []\n",
    "def preprocess_text(text):\n",
    "    text = re.sub('[^a-zA-Z]',' ', text)\n",
    "    text = text.lower()\n",
    "    text = text.split()\n",
    "    text = [lemmatizer.lemmatize(word) for word in text if word not in stop_words]\n",
    "    text = \" \".join(text)\n",
    "    corpus.append(text)"
   ]
  },
  {
   "cell_type": "code",
   "execution_count": 8,
   "id": "830f68d9-2500-4331-bf5a-00dfe17d9b6d",
   "metadata": {},
   "outputs": [
    {
     "data": {
      "text/plain": [
       "0       None\n",
       "1       None\n",
       "2       None\n",
       "3       None\n",
       "4       None\n",
       "        ... \n",
       "1995    None\n",
       "1996    None\n",
       "1997    None\n",
       "1998    None\n",
       "1999    None\n",
       "Name: reviews, Length: 2000, dtype: object"
      ]
     },
     "execution_count": 8,
     "metadata": {},
     "output_type": "execute_result"
    }
   ],
   "source": [
    "# Apply Preprocessing function to the review_data\n",
    "reviews_data.apply(preprocess_text)"
   ]
  },
  {
   "cell_type": "code",
   "execution_count": 9,
   "id": "32b8148f-7b62-41dd-bee4-b16771395d0d",
   "metadata": {},
   "outputs": [],
   "source": [
    "# add the corpus to the original dataframe\n",
    "df['corpus'] = corpus"
   ]
  },
  {
   "cell_type": "code",
   "execution_count": 10,
   "id": "f01e8223-0440-46df-bac7-4b4081b24c20",
   "metadata": {},
   "outputs": [
    {
     "data": {
      "text/html": [
       "<div>\n",
       "<style scoped>\n",
       "    .dataframe tbody tr th:only-of-type {\n",
       "        vertical-align: middle;\n",
       "    }\n",
       "\n",
       "    .dataframe tbody tr th {\n",
       "        vertical-align: top;\n",
       "    }\n",
       "\n",
       "    .dataframe thead th {\n",
       "        text-align: right;\n",
       "    }\n",
       "</style>\n",
       "<table border=\"1\" class=\"dataframe\">\n",
       "  <thead>\n",
       "    <tr style=\"text-align: right;\">\n",
       "      <th></th>\n",
       "      <th>reviews</th>\n",
       "      <th>stars</th>\n",
       "      <th>date</th>\n",
       "      <th>country</th>\n",
       "      <th>status</th>\n",
       "      <th>corpus</th>\n",
       "    </tr>\n",
       "  </thead>\n",
       "  <tbody>\n",
       "    <tr>\n",
       "      <th>0</th>\n",
       "      <td>✅ Trip Verified |   I flew a return trip DXB-L...</td>\n",
       "      <td>5</td>\n",
       "      <td>12th August 2024</td>\n",
       "      <td>United Arab Emirates</td>\n",
       "      <td>True</td>\n",
       "      <td>flew return trip dxb li dxb used mile upgrade ...</td>\n",
       "    </tr>\n",
       "    <tr>\n",
       "      <th>1</th>\n",
       "      <td>✅ Trip Verified |   We were 2 people travellin...</td>\n",
       "      <td>10</td>\n",
       "      <td>11th August 2024</td>\n",
       "      <td>India</td>\n",
       "      <td>True</td>\n",
       "      <td>people travelling together dubai boston sector...</td>\n",
       "    </tr>\n",
       "    <tr>\n",
       "      <th>2</th>\n",
       "      <td>Not Verified |   First time flying Emirates, w...</td>\n",
       "      <td>4</td>\n",
       "      <td>29th July 2024</td>\n",
       "      <td>Netherlands</td>\n",
       "      <td>False</td>\n",
       "      <td>verified first time flying emirate expecting l...</td>\n",
       "    </tr>\n",
       "    <tr>\n",
       "      <th>3</th>\n",
       "      <td>✅ Trip Verified |  Ground Staff and Service Fa...</td>\n",
       "      <td>5</td>\n",
       "      <td>18th July 2024</td>\n",
       "      <td>Singapore</td>\n",
       "      <td>True</td>\n",
       "      <td>ground staff service failure flight ek careful...</td>\n",
       "    </tr>\n",
       "    <tr>\n",
       "      <th>4</th>\n",
       "      <td>Not Verified |  The staff are friendly and the...</td>\n",
       "      <td>1</td>\n",
       "      <td>13th July 2024</td>\n",
       "      <td>Hong Kong</td>\n",
       "      <td>False</td>\n",
       "      <td>verified staff friendly seat comfortable air t...</td>\n",
       "    </tr>\n",
       "  </tbody>\n",
       "</table>\n",
       "</div>"
      ],
      "text/plain": [
       "                                             reviews  stars              date  \\\n",
       "0  ✅ Trip Verified |   I flew a return trip DXB-L...      5  12th August 2024   \n",
       "1  ✅ Trip Verified |   We were 2 people travellin...     10  11th August 2024   \n",
       "2  Not Verified |   First time flying Emirates, w...      4    29th July 2024   \n",
       "3  ✅ Trip Verified |  Ground Staff and Service Fa...      5    18th July 2024   \n",
       "4  Not Verified |  The staff are friendly and the...      1    13th July 2024   \n",
       "\n",
       "                country  status  \\\n",
       "0  United Arab Emirates    True   \n",
       "1                 India    True   \n",
       "2           Netherlands   False   \n",
       "3             Singapore    True   \n",
       "4             Hong Kong   False   \n",
       "\n",
       "                                              corpus  \n",
       "0  flew return trip dxb li dxb used mile upgrade ...  \n",
       "1  people travelling together dubai boston sector...  \n",
       "2  verified first time flying emirate expecting l...  \n",
       "3  ground staff service failure flight ek careful...  \n",
       "4  verified staff friendly seat comfortable air t...  "
      ]
     },
     "execution_count": 10,
     "metadata": {},
     "output_type": "execute_result"
    }
   ],
   "source": [
    "df.head()"
   ]
  },
  {
   "cell_type": "markdown",
   "id": "6160b34a-a843-46d1-9e6e-ab357c0f5018",
   "metadata": {},
   "source": [
    "### Checking Null Values"
   ]
  },
  {
   "cell_type": "code",
   "execution_count": 11,
   "id": "6d1a0228-d88d-4e1b-b6fc-57b2d57047dd",
   "metadata": {},
   "outputs": [
    {
     "data": {
      "text/plain": [
       "reviews    0\n",
       "stars      0\n",
       "date       0\n",
       "country    0\n",
       "status     0\n",
       "corpus     0\n",
       "dtype: int64"
      ]
     },
     "execution_count": 11,
     "metadata": {},
     "output_type": "execute_result"
    }
   ],
   "source": [
    "df.isnull().sum()"
   ]
  },
  {
   "cell_type": "markdown",
   "id": "0abf5510-0b05-4332-85e0-759ffc1cce4d",
   "metadata": {},
   "source": [
    "### Checking Dtypes"
   ]
  },
  {
   "cell_type": "code",
   "execution_count": 12,
   "id": "b03ac7a4-6c3a-4a35-a15e-a4783d86e306",
   "metadata": {},
   "outputs": [
    {
     "data": {
      "text/plain": [
       "reviews    object\n",
       "stars       int64\n",
       "date       object\n",
       "country    object\n",
       "status       bool\n",
       "corpus     object\n",
       "dtype: object"
      ]
     },
     "execution_count": 12,
     "metadata": {},
     "output_type": "execute_result"
    }
   ],
   "source": [
    "df.dtypes"
   ]
  },
  {
   "cell_type": "markdown",
   "id": "33f02abf-4209-415e-9013-0d8ab5771381",
   "metadata": {},
   "source": [
    "#### date column contains dates in a non-standard format like 2nd,3rd,1st..\n",
    "#### So will remove ordinal suffixes (st, nd, rd, th) from the dates"
   ]
  },
  {
   "cell_type": "code",
   "execution_count": 13,
   "id": "bc946f0c-b5eb-4c9b-86a9-0815e1db3f9f",
   "metadata": {},
   "outputs": [],
   "source": [
    "def remove_ordinal_suffixes(date_str):\n",
    "    return re.sub(r'(\\d+)(st|nd|rd|th)', r'\\1', date_str)\n",
    "\n",
    "df['date'] = df['date'].apply(remove_ordinal_suffixes)"
   ]
  },
  {
   "cell_type": "code",
   "execution_count": 14,
   "id": "3f70cc2e-f70a-418a-aae3-a1264e70b246",
   "metadata": {},
   "outputs": [],
   "source": [
    "# convert the date to datetime format\n",
    "df['date'] = pd.to_datetime(df['date'])"
   ]
  },
  {
   "cell_type": "code",
   "execution_count": 15,
   "id": "0337f583-2614-4d2d-93d2-fa0fc3399f11",
   "metadata": {},
   "outputs": [
    {
     "data": {
      "text/plain": [
       "0   2024-08-12\n",
       "1   2024-08-11\n",
       "2   2024-07-29\n",
       "Name: date, dtype: datetime64[ns]"
      ]
     },
     "execution_count": 15,
     "metadata": {},
     "output_type": "execute_result"
    }
   ],
   "source": [
    "df['date'].head(3)"
   ]
  },
  {
   "cell_type": "code",
   "execution_count": 16,
   "id": "c46c174a-8e1d-4fcc-9641-39f3afdc78d2",
   "metadata": {},
   "outputs": [
    {
     "data": {
      "text/plain": [
       "array([ 5, 10,  4,  1,  2,  8,  3,  9,  7,  6], dtype=int64)"
      ]
     },
     "execution_count": 16,
     "metadata": {},
     "output_type": "execute_result"
    }
   ],
   "source": [
    "df['stars'].unique()"
   ]
  },
  {
   "cell_type": "code",
   "execution_count": 17,
   "id": "2fc79c9c-6f20-4c2e-af1f-f85d5270e193",
   "metadata": {},
   "outputs": [
    {
     "data": {
      "text/plain": [
       "stars\n",
       "1     407\n",
       "5     326\n",
       "10    244\n",
       "2     203\n",
       "9     184\n",
       "3     150\n",
       "8     148\n",
       "4     129\n",
       "7     112\n",
       "6      97\n",
       "Name: count, dtype: int64"
      ]
     },
     "execution_count": 17,
     "metadata": {},
     "output_type": "execute_result"
    }
   ],
   "source": [
    "df['stars'].value_counts()"
   ]
  },
  {
   "cell_type": "code",
   "execution_count": 18,
   "id": "4d6e877e-3534-45bc-a4ee-9df68b3a8c4f",
   "metadata": {},
   "outputs": [
    {
     "data": {
      "text/html": [
       "<div>\n",
       "<style scoped>\n",
       "    .dataframe tbody tr th:only-of-type {\n",
       "        vertical-align: middle;\n",
       "    }\n",
       "\n",
       "    .dataframe tbody tr th {\n",
       "        vertical-align: top;\n",
       "    }\n",
       "\n",
       "    .dataframe thead th {\n",
       "        text-align: right;\n",
       "    }\n",
       "</style>\n",
       "<table border=\"1\" class=\"dataframe\">\n",
       "  <thead>\n",
       "    <tr style=\"text-align: right;\">\n",
       "      <th></th>\n",
       "      <th>reviews</th>\n",
       "      <th>stars</th>\n",
       "      <th>date</th>\n",
       "      <th>country</th>\n",
       "      <th>status</th>\n",
       "      <th>corpus</th>\n",
       "    </tr>\n",
       "  </thead>\n",
       "  <tbody>\n",
       "    <tr>\n",
       "      <th>0</th>\n",
       "      <td>✅ Trip Verified |   I flew a return trip DXB-L...</td>\n",
       "      <td>5</td>\n",
       "      <td>2024-08-12</td>\n",
       "      <td>United Arab Emirates</td>\n",
       "      <td>True</td>\n",
       "      <td>flew return trip dxb li dxb used mile upgrade ...</td>\n",
       "    </tr>\n",
       "    <tr>\n",
       "      <th>1</th>\n",
       "      <td>✅ Trip Verified |   We were 2 people travellin...</td>\n",
       "      <td>10</td>\n",
       "      <td>2024-08-11</td>\n",
       "      <td>India</td>\n",
       "      <td>True</td>\n",
       "      <td>people travelling together dubai boston sector...</td>\n",
       "    </tr>\n",
       "    <tr>\n",
       "      <th>2</th>\n",
       "      <td>Not Verified |   First time flying Emirates, w...</td>\n",
       "      <td>4</td>\n",
       "      <td>2024-07-29</td>\n",
       "      <td>Netherlands</td>\n",
       "      <td>False</td>\n",
       "      <td>verified first time flying emirate expecting l...</td>\n",
       "    </tr>\n",
       "    <tr>\n",
       "      <th>3</th>\n",
       "      <td>✅ Trip Verified |  Ground Staff and Service Fa...</td>\n",
       "      <td>5</td>\n",
       "      <td>2024-07-18</td>\n",
       "      <td>Singapore</td>\n",
       "      <td>True</td>\n",
       "      <td>ground staff service failure flight ek careful...</td>\n",
       "    </tr>\n",
       "    <tr>\n",
       "      <th>4</th>\n",
       "      <td>Not Verified |  The staff are friendly and the...</td>\n",
       "      <td>1</td>\n",
       "      <td>2024-07-13</td>\n",
       "      <td>Hong Kong</td>\n",
       "      <td>False</td>\n",
       "      <td>verified staff friendly seat comfortable air t...</td>\n",
       "    </tr>\n",
       "    <tr>\n",
       "      <th>...</th>\n",
       "      <td>...</td>\n",
       "      <td>...</td>\n",
       "      <td>...</td>\n",
       "      <td>...</td>\n",
       "      <td>...</td>\n",
       "      <td>...</td>\n",
       "    </tr>\n",
       "    <tr>\n",
       "      <th>1995</th>\n",
       "      <td>ICN-DXB and DXB-LIS between October 5/6 on eco...</td>\n",
       "      <td>1</td>\n",
       "      <td>2014-10-13</td>\n",
       "      <td>Portugal</td>\n",
       "      <td>False</td>\n",
       "      <td>icn dxb dxb li october economy check smooth si...</td>\n",
       "    </tr>\n",
       "    <tr>\n",
       "      <th>1996</th>\n",
       "      <td>Just flew return BNE to DXB on A380 and then o...</td>\n",
       "      <td>1</td>\n",
       "      <td>2014-10-12</td>\n",
       "      <td>Australia</td>\n",
       "      <td>False</td>\n",
       "      <td>flew return bne dxb onto vce b agree many said...</td>\n",
       "    </tr>\n",
       "    <tr>\n",
       "      <th>1997</th>\n",
       "      <td>Flew on the EK 38 on September from Birmingham...</td>\n",
       "      <td>4</td>\n",
       "      <td>2014-10-12</td>\n",
       "      <td>United Kingdom</td>\n",
       "      <td>False</td>\n",
       "      <td>flew ek september birmingham dubai first time ...</td>\n",
       "    </tr>\n",
       "    <tr>\n",
       "      <th>1998</th>\n",
       "      <td>My flight was a true class act. Flew First Cla...</td>\n",
       "      <td>8</td>\n",
       "      <td>2014-10-12</td>\n",
       "      <td>United States</td>\n",
       "      <td>False</td>\n",
       "      <td>flight true class act flew first class dfw dxb...</td>\n",
       "    </tr>\n",
       "    <tr>\n",
       "      <th>1999</th>\n",
       "      <td>We were really looking forward to our A380 Mel...</td>\n",
       "      <td>5</td>\n",
       "      <td>2014-10-12</td>\n",
       "      <td>Australia</td>\n",
       "      <td>False</td>\n",
       "      <td>really looking forward melbourne auckland retu...</td>\n",
       "    </tr>\n",
       "  </tbody>\n",
       "</table>\n",
       "<p>2000 rows × 6 columns</p>\n",
       "</div>"
      ],
      "text/plain": [
       "                                                reviews  stars       date  \\\n",
       "0     ✅ Trip Verified |   I flew a return trip DXB-L...      5 2024-08-12   \n",
       "1     ✅ Trip Verified |   We were 2 people travellin...     10 2024-08-11   \n",
       "2     Not Verified |   First time flying Emirates, w...      4 2024-07-29   \n",
       "3     ✅ Trip Verified |  Ground Staff and Service Fa...      5 2024-07-18   \n",
       "4     Not Verified |  The staff are friendly and the...      1 2024-07-13   \n",
       "...                                                 ...    ...        ...   \n",
       "1995  ICN-DXB and DXB-LIS between October 5/6 on eco...      1 2014-10-13   \n",
       "1996  Just flew return BNE to DXB on A380 and then o...      1 2014-10-12   \n",
       "1997  Flew on the EK 38 on September from Birmingham...      4 2014-10-12   \n",
       "1998  My flight was a true class act. Flew First Cla...      8 2014-10-12   \n",
       "1999  We were really looking forward to our A380 Mel...      5 2014-10-12   \n",
       "\n",
       "                   country  status  \\\n",
       "0     United Arab Emirates    True   \n",
       "1                    India    True   \n",
       "2              Netherlands   False   \n",
       "3                Singapore    True   \n",
       "4                Hong Kong   False   \n",
       "...                    ...     ...   \n",
       "1995              Portugal   False   \n",
       "1996             Australia   False   \n",
       "1997        United Kingdom   False   \n",
       "1998         United States   False   \n",
       "1999             Australia   False   \n",
       "\n",
       "                                                 corpus  \n",
       "0     flew return trip dxb li dxb used mile upgrade ...  \n",
       "1     people travelling together dubai boston sector...  \n",
       "2     verified first time flying emirate expecting l...  \n",
       "3     ground staff service failure flight ek careful...  \n",
       "4     verified staff friendly seat comfortable air t...  \n",
       "...                                                 ...  \n",
       "1995  icn dxb dxb li october economy check smooth si...  \n",
       "1996  flew return bne dxb onto vce b agree many said...  \n",
       "1997  flew ek september birmingham dubai first time ...  \n",
       "1998  flight true class act flew first class dfw dxb...  \n",
       "1999  really looking forward melbourne auckland retu...  \n",
       "\n",
       "[2000 rows x 6 columns]"
      ]
     },
     "execution_count": 18,
     "metadata": {},
     "output_type": "execute_result"
    }
   ],
   "source": [
    "df.reset_index(drop=True)"
   ]
  },
  {
   "cell_type": "code",
   "execution_count": 19,
   "id": "f45b4e5a-d0ff-4b85-91d5-4da104c3393c",
   "metadata": {},
   "outputs": [],
   "source": [
    "# Save processed reviews\n",
    "df.to_csv(\"Emirates_processed_reviews.csv\", index=None)"
   ]
  },
  {
   "cell_type": "markdown",
   "id": "e329a50d-d653-4403-84fb-0fd0c14b12ad",
   "metadata": {},
   "source": [
    "### Saving objects"
   ]
  },
  {
   "cell_type": "code",
   "execution_count": 20,
   "id": "ac7c1715-8792-4038-b441-d550dddd4d50",
   "metadata": {},
   "outputs": [],
   "source": [
    "import pickle"
   ]
  },
  {
   "cell_type": "code",
   "execution_count": 21,
   "id": "2afb8ee1-2769-4f17-bbee-7d168e9e8e9b",
   "metadata": {},
   "outputs": [],
   "source": [
    "pickle.dump(lemmatizer, open('../SavedModels/lemmatizer.pkl', 'wb'))"
   ]
  }
 ],
 "metadata": {
  "kernelspec": {
   "display_name": "Python 3 (ipykernel)",
   "language": "python",
   "name": "python3"
  },
  "language_info": {
   "codemirror_mode": {
    "name": "ipython",
    "version": 3
   },
   "file_extension": ".py",
   "mimetype": "text/x-python",
   "name": "python",
   "nbconvert_exporter": "python",
   "pygments_lexer": "ipython3",
   "version": "3.10.13"
  }
 },
 "nbformat": 4,
 "nbformat_minor": 5
}
